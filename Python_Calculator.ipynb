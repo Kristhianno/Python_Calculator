{
 "cells": [
  {
   "cell_type": "code",
   "execution_count": 1,
   "id": "a564519b",
   "metadata": {},
   "outputs": [],
   "source": [
    "# Criando um Calculadora Python "
   ]
  },
  {
   "cell_type": "code",
   "execution_count": 2,
   "id": "925e2935",
   "metadata": {},
   "outputs": [
    {
     "name": "stdout",
     "output_type": "stream",
     "text": [
      "*********** Python Calculator **********\n",
      "\n",
      "Selecione o número da operação desejada:\n",
      "\n",
      "1 - Soma   \n",
      "2 - Subtração   \n",
      "3 - Multiplicação   \n",
      "4 - Divisão   \n",
      "\n",
      "Digite sua opção (1/2/3/4): 1\n",
      "\n",
      "Digite o primeiro número: 2\n",
      "\n",
      "Digite o segundo número: 5\n",
      "\n",
      "O Resultado de: 2 + 5 = 7 \n",
      "\n",
      "None\n"
     ]
    }
   ],
   "source": [
    "print('*********** Python Calculator **********\\n')\n",
    "\n",
    "\n",
    "print('Selecione o número da operação desejada:\\n')\n",
    "\n",
    "print('1 - Soma  ', '\\n2 - Subtração  ','\\n3 - Multiplicação  ','\\n4 - Divisão  ','\\n')\n",
    "\n",
    "def soma(num_1, num_2):\n",
    "    resultado = num_1 + num_2\n",
    "    print('\\nO Resultado de:', num_1,'+', num_2,'=', resultado,'\\n')\n",
    "    \n",
    "def subtracao(num_1, num_2):\n",
    "    resultado = num_1 - num_2\n",
    "    print('\\nO Resultado de:', num_1,'-', num_2,'=', resultado,'\\n')\n",
    "    \n",
    "def multiplicacao(num_1, num_2):\n",
    "    resultado = num_1 * num_2\n",
    "    print('\\nO Resultado de:', num_1,'*', num_2,'=', resultado,'\\n')\n",
    "    \n",
    "def divisao(num_1, num_2):\n",
    "    resultado = num_1 // num_2\n",
    "    print('\\nO Resultado de:', num_1,'/', num_2,'=', resultado,'\\n')\n",
    "\n",
    "\n",
    "opcao = int(input('Digite sua opção (1/2/3/4): '))\n",
    "\n",
    "if opcao == 1:    \n",
    "    num_1 = int(input('\\nDigite o primeiro número: '))\n",
    "    num_2 = int(input('\\nDigite o segundo número: '))\n",
    "    print(soma(num_1,num_2))\n",
    "\n",
    "elif opcao == 2:    \n",
    "    num_1 = int(input('\\nDigite o primeiro número: '))\n",
    "    num_2 = int(input('\\nDigite o segundo número: '))\n",
    "    print(subtracao(num_1,num_2))\n",
    "    \n",
    "elif opcao == 3:    \n",
    "    num_1 = int(input('\\nDigite o primeiro número: '))\n",
    "    num_2 = int(input('\\nDigite o segundo número: '))\n",
    "    print(multiplicacao(num_1,num_2))\n",
    "    \n",
    "elif opcao == 4:    \n",
    "    num_1 = int(input('\\nDigite o primeiro número: '))\n",
    "    num_2 = int(input('\\nDigite o segundo número: '))\n",
    "    print(divisao(num_1,num_2))\n",
    "    \n",
    "else:\n",
    "    print('\\nOpção Inválida')\n",
    "     \n",
    "   "
   ]
  }
 ],
 "metadata": {
  "kernelspec": {
   "display_name": "Python 3",
   "language": "python",
   "name": "python3"
  },
  "language_info": {
   "codemirror_mode": {
    "name": "ipython",
    "version": 3
   },
   "file_extension": ".py",
   "mimetype": "text/x-python",
   "name": "python",
   "nbconvert_exporter": "python",
   "pygments_lexer": "ipython3",
   "version": "3.8.8"
  }
 },
 "nbformat": 4,
 "nbformat_minor": 5
}
